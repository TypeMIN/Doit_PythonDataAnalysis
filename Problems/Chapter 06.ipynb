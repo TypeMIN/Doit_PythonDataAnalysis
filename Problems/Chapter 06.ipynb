{
 "cells": [
  {
   "cell_type": "code",
   "execution_count": 1,
   "id": "1650bf0f-ca88-4c46-8156-ffd01186ab59",
   "metadata": {},
   "outputs": [],
   "source": [
    "import pandas as pd\n",
    "import numpy as np"
   ]
  },
  {
   "cell_type": "code",
   "execution_count": 7,
   "id": "77023006-6d6d-4663-9b0b-a8f9f54f2bc5",
   "metadata": {},
   "outputs": [
    {
     "data": {
      "text/html": [
       "<div>\n",
       "<style scoped>\n",
       "    .dataframe tbody tr th:only-of-type {\n",
       "        vertical-align: middle;\n",
       "    }\n",
       "\n",
       "    .dataframe tbody tr th {\n",
       "        vertical-align: top;\n",
       "    }\n",
       "\n",
       "    .dataframe thead th {\n",
       "        text-align: right;\n",
       "    }\n",
       "</style>\n",
       "<table border=\"1\" class=\"dataframe\">\n",
       "  <thead>\n",
       "    <tr style=\"text-align: right;\">\n",
       "      <th></th>\n",
       "      <th>manufacturer</th>\n",
       "      <th>model</th>\n",
       "      <th>displ</th>\n",
       "      <th>year</th>\n",
       "      <th>cyl</th>\n",
       "      <th>trans</th>\n",
       "      <th>drv</th>\n",
       "      <th>cty</th>\n",
       "      <th>hwy</th>\n",
       "      <th>fl</th>\n",
       "      <th>category</th>\n",
       "    </tr>\n",
       "  </thead>\n",
       "  <tbody>\n",
       "    <tr>\n",
       "      <th>0</th>\n",
       "      <td>audi</td>\n",
       "      <td>a4</td>\n",
       "      <td>1.8</td>\n",
       "      <td>1999</td>\n",
       "      <td>4</td>\n",
       "      <td>auto(l5)</td>\n",
       "      <td>f</td>\n",
       "      <td>18</td>\n",
       "      <td>29</td>\n",
       "      <td>p</td>\n",
       "      <td>compact</td>\n",
       "    </tr>\n",
       "    <tr>\n",
       "      <th>1</th>\n",
       "      <td>audi</td>\n",
       "      <td>a4</td>\n",
       "      <td>1.8</td>\n",
       "      <td>1999</td>\n",
       "      <td>4</td>\n",
       "      <td>manual(m5)</td>\n",
       "      <td>f</td>\n",
       "      <td>21</td>\n",
       "      <td>29</td>\n",
       "      <td>p</td>\n",
       "      <td>compact</td>\n",
       "    </tr>\n",
       "    <tr>\n",
       "      <th>2</th>\n",
       "      <td>audi</td>\n",
       "      <td>a4</td>\n",
       "      <td>2.0</td>\n",
       "      <td>2008</td>\n",
       "      <td>4</td>\n",
       "      <td>manual(m6)</td>\n",
       "      <td>f</td>\n",
       "      <td>20</td>\n",
       "      <td>31</td>\n",
       "      <td>p</td>\n",
       "      <td>compact</td>\n",
       "    </tr>\n",
       "    <tr>\n",
       "      <th>3</th>\n",
       "      <td>audi</td>\n",
       "      <td>a4</td>\n",
       "      <td>2.0</td>\n",
       "      <td>2008</td>\n",
       "      <td>4</td>\n",
       "      <td>auto(av)</td>\n",
       "      <td>f</td>\n",
       "      <td>21</td>\n",
       "      <td>30</td>\n",
       "      <td>p</td>\n",
       "      <td>compact</td>\n",
       "    </tr>\n",
       "    <tr>\n",
       "      <th>4</th>\n",
       "      <td>audi</td>\n",
       "      <td>a4</td>\n",
       "      <td>2.8</td>\n",
       "      <td>1999</td>\n",
       "      <td>6</td>\n",
       "      <td>auto(l5)</td>\n",
       "      <td>f</td>\n",
       "      <td>16</td>\n",
       "      <td>26</td>\n",
       "      <td>p</td>\n",
       "      <td>compact</td>\n",
       "    </tr>\n",
       "  </tbody>\n",
       "</table>\n",
       "</div>"
      ],
      "text/plain": [
       "  manufacturer model  displ  year  cyl       trans drv  cty  hwy fl category\n",
       "0         audi    a4    1.8  1999    4    auto(l5)   f   18   29  p  compact\n",
       "1         audi    a4    1.8  1999    4  manual(m5)   f   21   29  p  compact\n",
       "2         audi    a4    2.0  2008    4  manual(m6)   f   20   31  p  compact\n",
       "3         audi    a4    2.0  2008    4    auto(av)   f   21   30  p  compact\n",
       "4         audi    a4    2.8  1999    6    auto(l5)   f   16   26  p  compact"
      ]
     },
     "execution_count": 7,
     "metadata": {},
     "output_type": "execute_result"
    }
   ],
   "source": [
    "mpg = pd.read_csv('mpg.csv')\n",
    "mpg.head()"
   ]
  },
  {
   "cell_type": "code",
   "execution_count": 8,
   "id": "fa2d6ec8-c1ff-4391-8bf2-26b0a26439ad",
   "metadata": {},
   "outputs": [],
   "source": [
    "# Q1\n",
    "displ_under4 = mpg.query('displ <= 4')\n",
    "displ_over5 = mpg.query('displ >= 5')"
   ]
  },
  {
   "cell_type": "code",
   "execution_count": 9,
   "id": "52fab547-dfae-44d0-bae6-5bca6963e807",
   "metadata": {},
   "outputs": [
    {
     "data": {
      "text/plain": [
       "25.96319018404908"
      ]
     },
     "execution_count": 9,
     "metadata": {},
     "output_type": "execute_result"
    }
   ],
   "source": [
    "displ_under4['hwy'].mean()"
   ]
  },
  {
   "cell_type": "code",
   "execution_count": 10,
   "id": "93cf36e1-1499-4760-8f94-3a1d50abe08d",
   "metadata": {},
   "outputs": [
    {
     "data": {
      "text/plain": [
       "18.07894736842105"
      ]
     },
     "execution_count": 10,
     "metadata": {},
     "output_type": "execute_result"
    }
   ],
   "source": [
    "displ_over5['hwy'].mean()"
   ]
  },
  {
   "cell_type": "code",
   "execution_count": 11,
   "id": "b61f582a-d155-4036-bc6b-0a3c692efde4",
   "metadata": {},
   "outputs": [],
   "source": [
    "# Q2\n",
    "audi = mpg.query('manufacturer == \"audi\"')\n",
    "toyota = mpg.query('manufacturer == \"toyota\"')"
   ]
  },
  {
   "cell_type": "code",
   "execution_count": 12,
   "id": "87c5e243-9904-4db7-9f01-ff7c7c865ac0",
   "metadata": {},
   "outputs": [
    {
     "data": {
      "text/plain": [
       "17.61111111111111"
      ]
     },
     "execution_count": 12,
     "metadata": {},
     "output_type": "execute_result"
    }
   ],
   "source": [
    "audi['cty'].mean()"
   ]
  },
  {
   "cell_type": "code",
   "execution_count": 13,
   "id": "20a4b91d-02ff-46af-820c-ab23647704c0",
   "metadata": {},
   "outputs": [
    {
     "data": {
      "text/plain": [
       "18.529411764705884"
      ]
     },
     "execution_count": 13,
     "metadata": {},
     "output_type": "execute_result"
    }
   ],
   "source": [
    "toyota['cty'].mean()"
   ]
  },
  {
   "cell_type": "code",
   "execution_count": 14,
   "id": "0bc62868-3d31-4eaa-b4b1-8942ea744117",
   "metadata": {},
   "outputs": [],
   "source": [
    "# Q3\n",
    "manu3 = mpg.query('manufacturer in [\"chevrolet\", \"ford\", \"honda\"]')"
   ]
  },
  {
   "cell_type": "code",
   "execution_count": 16,
   "id": "75029fd4-6c6d-4ae7-b718-beda0ec346dc",
   "metadata": {},
   "outputs": [
    {
     "data": {
      "text/plain": [
       "22.50943396226415"
      ]
     },
     "execution_count": 16,
     "metadata": {},
     "output_type": "execute_result"
    }
   ],
   "source": [
    "manu3['hwy'].mean()"
   ]
  },
  {
   "cell_type": "code",
   "execution_count": null,
   "id": "cda634e7-dc78-4522-9cff-b1350855ab79",
   "metadata": {},
   "outputs": [],
   "source": []
  }
 ],
 "metadata": {
  "kernelspec": {
   "display_name": "Python 3 (ipykernel)",
   "language": "python",
   "name": "python3"
  },
  "language_info": {
   "codemirror_mode": {
    "name": "ipython",
    "version": 3
   },
   "file_extension": ".py",
   "mimetype": "text/x-python",
   "name": "python",
   "nbconvert_exporter": "python",
   "pygments_lexer": "ipython3",
   "version": "3.9.12"
  }
 },
 "nbformat": 4,
 "nbformat_minor": 5
}
